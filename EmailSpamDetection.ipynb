{
 "cells": [
  {
   "cell_type": "code",
   "execution_count": null,
   "metadata": {},
   "outputs": [],
   "source": [
    "import os\n",
    "import re\n",
    "from extract_msg import Message\n",
    "\n",
    "def extract_email_ids(text):\n",
    "    # Regular expression pattern to match email addresses\n",
    "    pattern = r'\\b[A-Za-z0-9._%+-]+@gm+\\.com\\b'\n",
    "    email_ids = re.findall(pattern, text)\n",
    "    return email_ids"
   ]
  },
  {
   "cell_type": "code",
   "execution_count": null,
   "metadata": {},
   "outputs": [],
   "source": [
    "def extract_unique_email_ids_from_msg(msg_file_path):\n",
    "    email_ids_set = set()\n",
    "\n",
    "    with Message(msg_file_path) as msg:\n",
    "        body = msg.body\n",
    "        lines = body.split('\\n')[:5]  # Extract only the first 5 lines\n",
    "\n",
    "        for line in lines:\n",
    "            email_ids = extract_email_ids(line)\n",
    "            email_ids_set.update(email_ids)\n",
    "\n",
    "    return list(email_ids_set)"
   ]
  },
  {
   "cell_type": "code",
   "execution_count": null,
   "metadata": {},
   "outputs": [],
   "source": [
    "\n",
    "\n",
    "# Folder containing .msg files\n",
    "folder_path = \"# folder containing  .msg files\"\n",
    "\n",
    "all_unique_email_ids = set()"
   ]
  },
  {
   "cell_type": "code",
   "execution_count": null,
   "metadata": {},
   "outputs": [],
   "source": [
    "# Iterate through .msg files and extract unique email IDs\n",
    "for filename in os.listdir(folder_path):\n",
    "    if filename.endswith(\".msg\"):\n",
    "        msg_file_path = os.path.join(folder_path, filename)\n",
    "        unique_email_ids = extract_unique_email_ids_from_msg(msg_file_path)\n",
    "        all_unique_email_ids.update(unique_email_ids)\n",
    "\n",
    "# Convert the set of unique email IDs to a list\n",
    "unique_email_ids_list = list(all_unique_email_ids)\n",
    "\n",
    "# Print the extracted unique email IDs\n",
    "for email_id in unique_email_ids_list:\n",
    "    print(email_id)\n",
    "\n",
    "\n",
    "unique_email_ids_list"
   ]
  }
 ],
 "metadata": {
  "kernelspec": {
   "display_name": "Python 3",
   "language": "python",
   "name": "python3"
  },
  "language_info": {
   "codemirror_mode": {
    "name": "ipython",
    "version": 3
   },
   "file_extension": ".py",
   "mimetype": "text/x-python",
   "name": "python",
   "nbconvert_exporter": "python",
   "pygments_lexer": "ipython3",
   "version": "3.12.2"
  }
 },
 "nbformat": 4,
 "nbformat_minor": 2
}
